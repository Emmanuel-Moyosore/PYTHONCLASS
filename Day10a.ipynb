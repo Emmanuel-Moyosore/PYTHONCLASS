{
 "cells": [
  {
   "cell_type": "code",
   "execution_count": 38,
   "id": "1da2df62",
   "metadata": {},
   "outputs": [
    {
     "ename": "SyntaxError",
     "evalue": "'return' outside function (2258568055.py, line 28)",
     "output_type": "error",
     "traceback": [
      "\u001b[1;36m  Cell \u001b[1;32mIn[38], line 28\u001b[1;36m\u001b[0m\n\u001b[1;33m    return f' The Total Cost is ${totalcost}'\u001b[0m\n\u001b[1;37m    ^\u001b[0m\n\u001b[1;31mSyntaxError\u001b[0m\u001b[1;31m:\u001b[0m 'return' outside function\n"
     ]
    }
   ],
   "source": [
    "try:\n",
    "    def calculate_shipping_cost(weight, item_condition,destination):\n",
    "        shipping_rates={\n",
    "            'Region1':5,\n",
    "            'Region2':7,\n",
    "            'Region3':9,\n",
    "            'Region4':11,\n",
    "    }\n",
    "        condition_charge=0\n",
    "        if item_condition=='fragile':\n",
    "            condition_charge=5\n",
    "        elif item_condition=='flammable':\n",
    "            condition_charge=8\n",
    "        shipping_rate=shipping_rates.get(destination,0)\n",
    "        totalcost=(shipping_rate+ condition_charge)*weight\n",
    "        return f' The Total Cost is ${totalcost}'\n",
    "except KeyError:\n",
    "    print('Key does not exist')\n",
    "except:\n",
    "    print('You have encountered one or more errors')\n",
    "else:\n",
    "    try:\n",
    "        weight = float(input('Enter Item Weight:'))\n",
    "        item_condition = input('Enter Item Condition:')\n",
    "        destination = input('Enter Item Destination:')\n",
    "    except ValueError:\n",
    "        print('Only float or integer value for weight')\n",
    "        return f' The Total Cost is ${totalcost}'\n",
    "finally:\n",
    "    calculate_shipping_cost(weight,item_condition,destination)\n",
    "\n",
    "    "
   ]
  },
  {
   "cell_type": "code",
   "execution_count": null,
   "id": "38720dfe",
   "metadata": {},
   "outputs": [],
   "source": []
  },
  {
   "cell_type": "code",
   "execution_count": null,
   "id": "a1f4649a",
   "metadata": {},
   "outputs": [],
   "source": []
  },
  {
   "cell_type": "code",
   "execution_count": null,
   "id": "2b17f6f6",
   "metadata": {},
   "outputs": [],
   "source": []
  }
 ],
 "metadata": {
  "kernelspec": {
   "display_name": "Python 3 (ipykernel)",
   "language": "python",
   "name": "python3"
  },
  "language_info": {
   "codemirror_mode": {
    "name": "ipython",
    "version": 3
   },
   "file_extension": ".py",
   "mimetype": "text/x-python",
   "name": "python",
   "nbconvert_exporter": "python",
   "pygments_lexer": "ipython3",
   "version": "3.11.5"
  }
 },
 "nbformat": 4,
 "nbformat_minor": 5
}
