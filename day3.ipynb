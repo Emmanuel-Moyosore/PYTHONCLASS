{
 "cells": [
  {
   "cell_type": "code",
   "execution_count": 5,
   "id": "0ff9ae09",
   "metadata": {},
   "outputs": [
    {
     "name": "stdout",
     "output_type": "stream",
     "text": [
      "Enter first number:34\n",
      "Enter second number:34\n",
      "False\n",
      "False\n",
      "True\n",
      "True\n",
      "True\n",
      "False\n"
     ]
    }
   ],
   "source": [
    "num1=int(input('Enter first number:'))\n",
    "num2=int(input('Enter second number:'))\n",
    "print(num1>num2)\n",
    "print(num1<num2)\n",
    "print(num1>=num2)\n",
    "print(num1<=num2)\n",
    "print(num1==num2)\n",
    "print(num1!=num2)"
   ]
  },
  {
   "cell_type": "code",
   "execution_count": 6,
   "id": "b655be33",
   "metadata": {},
   "outputs": [
    {
     "name": "stdout",
     "output_type": "stream",
     "text": [
      "True\n",
      "True\n",
      "False\n"
     ]
    }
   ],
   "source": [
    "print(num1==num2 and num1<=num2)\n",
    "print(num1==num2 or num1<=num2)\n",
    "print(not num1)"
   ]
  },
  {
   "cell_type": "code",
   "execution_count": 7,
   "id": "16afb047",
   "metadata": {},
   "outputs": [
    {
     "name": "stdout",
     "output_type": "stream",
     "text": [
      "True\n",
      "False\n"
     ]
    }
   ],
   "source": [
    "print(num1 is num2)\n",
    "print(num1 is not num2)"
   ]
  },
  {
   "cell_type": "code",
   "execution_count": 9,
   "id": "6fd2ed78",
   "metadata": {},
   "outputs": [
    {
     "name": "stdout",
     "output_type": "stream",
     "text": [
      "12\n"
     ]
    }
   ],
   "source": [
    "numbers =(14,12,20,25,26,14,10,9,78,95,14,65)\n",
    "print(len(numbers))"
   ]
  },
  {
   "cell_type": "code",
   "execution_count": 10,
   "id": "c5193104",
   "metadata": {},
   "outputs": [
    {
     "name": "stdout",
     "output_type": "stream",
     "text": [
      "<class 'tuple'>\n"
     ]
    }
   ],
   "source": [
    "print(type(numbers))"
   ]
  },
  {
   "cell_type": "code",
   "execution_count": 11,
   "id": "281ac78b",
   "metadata": {},
   "outputs": [
    {
     "name": "stdout",
     "output_type": "stream",
     "text": [
      "14\n"
     ]
    }
   ],
   "source": [
    "print(numbers[5])"
   ]
  },
  {
   "cell_type": "code",
   "execution_count": 12,
   "id": "4cdc447b",
   "metadata": {},
   "outputs": [
    {
     "name": "stdout",
     "output_type": "stream",
     "text": [
      "14\n"
     ]
    }
   ],
   "source": [
    "print(numbers[-7])"
   ]
  },
  {
   "cell_type": "code",
   "execution_count": 13,
   "id": "4338e917",
   "metadata": {},
   "outputs": [
    {
     "name": "stdout",
     "output_type": "stream",
     "text": [
      "False\n"
     ]
    }
   ],
   "source": [
    "print(100 in numbers)"
   ]
  },
  {
   "cell_type": "code",
   "execution_count": 14,
   "id": "5e91a7fa",
   "metadata": {},
   "outputs": [
    {
     "name": "stdout",
     "output_type": "stream",
     "text": [
      "True\n"
     ]
    }
   ],
   "source": [
    "print(100 not in numbers)"
   ]
  },
  {
   "cell_type": "code",
   "execution_count": 16,
   "id": "e11480ae",
   "metadata": {},
   "outputs": [
    {
     "name": "stdout",
     "output_type": "stream",
     "text": [
      "3\n"
     ]
    }
   ],
   "source": [
    "print(numbers.count(14))"
   ]
  },
  {
   "cell_type": "code",
   "execution_count": 17,
   "id": "56cb0c72",
   "metadata": {},
   "outputs": [
    {
     "name": "stdout",
     "output_type": "stream",
     "text": [
      "3\n"
     ]
    }
   ],
   "source": [
    "print(numbers.index(25))"
   ]
  },
  {
   "cell_type": "code",
   "execution_count": 18,
   "id": "b1ca73de",
   "metadata": {},
   "outputs": [
    {
     "name": "stdout",
     "output_type": "stream",
     "text": [
      "['Banana', 'Apple', 'Lemon', 'Orange', 'Pear']\n"
     ]
    }
   ],
   "source": [
    "items=['Banana','Apple','Lemon','Orange']\n",
    "items.append('Pear')# append will add the new value at the end of the existing list\n",
    "print(items)"
   ]
  },
  {
   "cell_type": "code",
   "execution_count": 19,
   "id": "1ae4e140",
   "metadata": {},
   "outputs": [
    {
     "name": "stdout",
     "output_type": "stream",
     "text": [
      "['Banana', 'Apple', 'Lemon', 'Strawberry', 'Orange', 'Pear']\n"
     ]
    }
   ],
   "source": [
    "items.insert(3,'Strawberry')#insert will add the new value at the specified location\n",
    "print(items)"
   ]
  },
  {
   "cell_type": "code",
   "execution_count": 20,
   "id": "8e196206",
   "metadata": {},
   "outputs": [
    {
     "name": "stdout",
     "output_type": "stream",
     "text": [
      "['Banana', 'Apple', 'Lemon', 'Strawberry', 'Orange', 'Pear', 'Lemon', 'Pear', 'Coconut']\n"
     ]
    }
   ],
   "source": [
    "f=['Lemon','Pear','Coconut']\n",
    "items.extend(f)# extend will add all values from an existing list to our present working list\n",
    "print(items)"
   ]
  },
  {
   "cell_type": "code",
   "execution_count": 21,
   "id": "153f71bf",
   "metadata": {},
   "outputs": [
    {
     "name": "stdout",
     "output_type": "stream",
     "text": [
      "['Banana', 'Apple', 'Lemon', 'Strawberry', 'Orange', 'Lemon', 'Pear', 'Coconut']\n"
     ]
    }
   ],
   "source": [
    "items.pop(5)# pop will remove a value on the specified index location\n",
    "print(items)"
   ]
  },
  {
   "cell_type": "code",
   "execution_count": 22,
   "id": "3ac51c45",
   "metadata": {},
   "outputs": [
    {
     "name": "stdout",
     "output_type": "stream",
     "text": [
      "['Banana', 'Apple', 'Strawberry', 'Orange', 'Lemon', 'Pear', 'Coconut']\n"
     ]
    }
   ],
   "source": [
    "items.remove('Lemon')# remove will drop the specified value\n",
    "print(items)"
   ]
  },
  {
   "cell_type": "code",
   "execution_count": 23,
   "id": "58989263",
   "metadata": {},
   "outputs": [
    {
     "name": "stdout",
     "output_type": "stream",
     "text": [
      "['Apple', 'Banana', 'Coconut', 'Lemon', 'Orange', 'Pear', 'Strawberry']\n"
     ]
    }
   ],
   "source": [
    "items.sort()\n",
    "print(items)"
   ]
  },
  {
   "cell_type": "code",
   "execution_count": 24,
   "id": "b68ba238",
   "metadata": {},
   "outputs": [
    {
     "name": "stdout",
     "output_type": "stream",
     "text": [
      "['Strawberry', 'Pear', 'Orange', 'Lemon', 'Coconut', 'Banana', 'Apple']\n"
     ]
    }
   ],
   "source": [
    "items.reverse()\n",
    "print(items)"
   ]
  },
  {
   "cell_type": "code",
   "execution_count": 25,
   "id": "b47e6016",
   "metadata": {},
   "outputs": [
    {
     "name": "stdout",
     "output_type": "stream",
     "text": [
      "['Strawberry', 'Pear', 'Orange', 'Lemon', 'Coconut', 'Banana', 'Apple']\n"
     ]
    }
   ],
   "source": [
    "items_copy=items.copy()\n",
    "print(items_copy)"
   ]
  },
  {
   "cell_type": "code",
   "execution_count": 26,
   "id": "d6349489",
   "metadata": {},
   "outputs": [
    {
     "name": "stdout",
     "output_type": "stream",
     "text": [
      "[]\n"
     ]
    }
   ],
   "source": [
    "items_copy.clear()\n",
    "print(items_copy)"
   ]
  },
  {
   "cell_type": "code",
   "execution_count": null,
   "id": "7a9c3910",
   "metadata": {},
   "outputs": [],
   "source": []
  }
 ],
 "metadata": {
  "kernelspec": {
   "display_name": "Python 3 (ipykernel)",
   "language": "python",
   "name": "python3"
  },
  "language_info": {
   "codemirror_mode": {
    "name": "ipython",
    "version": 3
   },
   "file_extension": ".py",
   "mimetype": "text/x-python",
   "name": "python",
   "nbconvert_exporter": "python",
   "pygments_lexer": "ipython3",
   "version": "3.11.5"
  }
 },
 "nbformat": 4,
 "nbformat_minor": 5
}
