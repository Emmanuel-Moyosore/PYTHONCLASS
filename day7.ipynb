{
 "cells": [
  {
   "cell_type": "markdown",
   "id": "dfc5e301",
   "metadata": {},
   "source": [
    "##Variable word length for non_key word"
   ]
  },
  {
   "cell_type": "code",
   "execution_count": 1,
   "id": "14c1e712",
   "metadata": {},
   "outputs": [
    {
     "name": "stdout",
     "output_type": "stream",
     "text": [
      "The average score of (17, 16, 31, 24, 27, 11) is 21.0\n"
     ]
    }
   ],
   "source": [
    "# non-key word\n",
    "# keyword\n",
    "def average(*numbers):\n",
    "    avg=sum(numbers)/len(numbers)\n",
    "    print(f'The average score of {numbers} is {round(avg,2)}')\n",
    "average(17,16,31,24,27,11)"
   ]
  },
  {
   "cell_type": "code",
   "execution_count": 2,
   "id": "9f417019",
   "metadata": {},
   "outputs": [
    {
     "name": "stdout",
     "output_type": "stream",
     "text": [
      "The average score of (80, 85, 90, 95, 78, 67, 33) is 75.43\n"
     ]
    }
   ],
   "source": [
    "score=[80,85,90,95,78,67,33]\n",
    "average(*score)"
   ]
  },
  {
   "cell_type": "code",
   "execution_count": 3,
   "id": "59d3a03f",
   "metadata": {},
   "outputs": [],
   "source": [
    "import mymodules"
   ]
  },
  {
   "cell_type": "code",
   "execution_count": 4,
   "id": "241a3590",
   "metadata": {},
   "outputs": [
    {
     "name": "stdout",
     "output_type": "stream",
     "text": [
      "['__builtins__', '__cached__', '__doc__', '__file__', '__loader__', '__name__', '__package__', '__spec__', 'average', 'total']\n"
     ]
    }
   ],
   "source": [
    "print(dir(mymodules))"
   ]
  },
  {
   "cell_type": "code",
   "execution_count": 5,
   "id": "673897da",
   "metadata": {},
   "outputs": [
    {
     "name": "stdout",
     "output_type": "stream",
     "text": [
      "The average score of (34, 56, 67, 67, 78, 90, 34, 26, 46, 78) is 57.6\n"
     ]
    }
   ],
   "source": [
    "mymodules.average(34,56,67,67,78,90,34,26,46,78)\n"
   ]
  },
  {
   "cell_type": "code",
   "execution_count": 6,
   "id": "ed0ef2d7",
   "metadata": {},
   "outputs": [
    {
     "name": "stdout",
     "output_type": "stream",
     "text": [
      "The total score (2, 3, 4, 5, 5, 67, 33, 10) is 129\n"
     ]
    }
   ],
   "source": [
    "mymodules.total(2,3,4,5,5,67,33,10,)"
   ]
  },
  {
   "cell_type": "markdown",
   "id": "ce5229ab",
   "metadata": {},
   "source": [
    "# VARIABLE WORD FOR KEY WORD ARGUMENT"
   ]
  },
  {
   "cell_type": "code",
   "execution_count": 7,
   "id": "89423ec6",
   "metadata": {},
   "outputs": [
    {
     "name": "stdout",
     "output_type": "stream",
     "text": [
      "Name :: Ade\n"
     ]
    }
   ],
   "source": [
    "def records_storing(**details):\n",
    "    for key, value in details.items():\n",
    "        print(key,'::',value)\n",
    "records_storing(Name='Ade')"
   ]
  },
  {
   "cell_type": "markdown",
   "id": "20433721",
   "metadata": {},
   "source": [
    "# LAMBDA FUNCTION"
   ]
  },
  {
   "cell_type": "code",
   "execution_count": 8,
   "id": "509071e1",
   "metadata": {},
   "outputs": [
    {
     "data": {
      "text/plain": [
       "302"
      ]
     },
     "execution_count": 8,
     "metadata": {},
     "output_type": "execute_result"
    }
   ],
   "source": [
    "(lambda x,y,z: x+y*z)(14,16,18)\n"
   ]
  },
  {
   "cell_type": "code",
   "execution_count": 13,
   "id": "360182da",
   "metadata": {},
   "outputs": [
    {
     "name": "stdout",
     "output_type": "stream",
     "text": [
      "Enter your password: ARI9X123\n"
     ]
    },
    {
     "data": {
      "text/plain": [
       "' Yes ARI9X123 is correct'"
      ]
     },
     "execution_count": 13,
     "metadata": {},
     "output_type": "execute_result"
    }
   ],
   "source": [
    " (lambda password: f' Yes {password} is correct'  if password[0]==password[0].upper() and len(password)>=8 else 'Incorrect password')(input('Enter your password: '))"
   ]
  },
  {
   "cell_type": "code",
   "execution_count": 22,
   "id": "bba77709",
   "metadata": {},
   "outputs": [
    {
     "name": "stdout",
     "output_type": "stream",
     "text": [
      "Enter your number:780\n"
     ]
    },
    {
     "data": {
      "text/plain": [
       "'780 is even'"
      ]
     },
     "execution_count": 22,
     "metadata": {},
     "output_type": "execute_result"
    }
   ],
   "source": [
    "#write a lambda function to check if a users number is even or odd\n",
    "(lambda usernumber: f'{usernumber} is even' if usernumber %2==0 else f'{usernumber} is odd')(int(input('Enter your number:')))"
   ]
  },
  {
   "cell_type": "code",
   "execution_count": null,
   "id": "b6c7ab49",
   "metadata": {},
   "outputs": [],
   "source": []
  },
  {
   "cell_type": "code",
   "execution_count": null,
   "id": "1460325f",
   "metadata": {},
   "outputs": [],
   "source": []
  },
  {
   "cell_type": "code",
   "execution_count": null,
   "id": "f3d9a8ca",
   "metadata": {},
   "outputs": [],
   "source": []
  }
 ],
 "metadata": {
  "kernelspec": {
   "display_name": "Python 3 (ipykernel)",
   "language": "python",
   "name": "python3"
  },
  "language_info": {
   "codemirror_mode": {
    "name": "ipython",
    "version": 3
   },
   "file_extension": ".py",
   "mimetype": "text/x-python",
   "name": "python",
   "nbconvert_exporter": "python",
   "pygments_lexer": "ipython3",
   "version": "3.11.5"
  }
 },
 "nbformat": 4,
 "nbformat_minor": 5
}
