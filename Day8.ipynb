{
 "cells": [
  {
   "cell_type": "markdown",
   "id": "9c0bc665",
   "metadata": {},
   "source": [
    "# CLASS"
   ]
  },
  {
   "cell_type": "raw",
   "id": "85b1749b",
   "metadata": {},
   "source": []
  },
  {
   "cell_type": "code",
   "execution_count": 3,
   "id": "b407218c",
   "metadata": {},
   "outputs": [],
   "source": [
    "class person:\n",
    "    atrr1='Ade'\n",
    "    atrr2=25\n",
    "ob=person()\n"
   ]
  },
  {
   "cell_type": "code",
   "execution_count": 4,
   "id": "d91dfd50",
   "metadata": {},
   "outputs": [
    {
     "data": {
      "text/plain": [
       "'Ade'"
      ]
     },
     "execution_count": 4,
     "metadata": {},
     "output_type": "execute_result"
    }
   ],
   "source": [
    "ob.atrr1"
   ]
  },
  {
   "cell_type": "code",
   "execution_count": 5,
   "id": "2b35471d",
   "metadata": {},
   "outputs": [
    {
     "data": {
      "text/plain": [
       "25"
      ]
     },
     "execution_count": 5,
     "metadata": {},
     "output_type": "execute_result"
    }
   ],
   "source": [
    "ob.atrr2"
   ]
  },
  {
   "cell_type": "code",
   "execution_count": 6,
   "id": "13b39781",
   "metadata": {},
   "outputs": [],
   "source": [
    "class person:\n",
    "    atrr1='Ade'\n",
    "    atrr2=25\n",
    "    \n",
    "    def details(self):\n",
    "        print(f'''NAME:{self.atrr1}\n",
    "AGE:{self.atrr2}        \n",
    "''')\n",
    "ob=person()"
   ]
  },
  {
   "cell_type": "code",
   "execution_count": 8,
   "id": "5363e74f",
   "metadata": {},
   "outputs": [
    {
     "name": "stdout",
     "output_type": "stream",
     "text": [
      "NAME:Ade\n",
      "AGE:25        \n",
      "\n"
     ]
    }
   ],
   "source": [
    "ob.details()"
   ]
  },
  {
   "cell_type": "code",
   "execution_count": 19,
   "id": "d6827ab2",
   "metadata": {},
   "outputs": [],
   "source": [
    "class BMISYSTEM:\n",
    "    def __init__(self):\n",
    "        self.name=''\n",
    "        self.age=0\n",
    "        self.gender=''\n",
    "        self.dob=''\n",
    "        self.height=0.0\n",
    "        self.weight=0.0\n",
    "        self.country=''\n",
    "        self.continent=''\n",
    "        \n",
    "    def accept(self):\n",
    "        self.name=input('Enter Customer Name: ')\n",
    "        self.gender=input('Enter Customer Gender: ')\n",
    "        self.dob=input('Enter Customer Date of BirthC: ')\n",
    "        self.height=float(input('Enter Customer Height in  meters: '))\n",
    "        self.weight = float(input('Enter Customer Weight in kg: '))\n",
    "        self.country=input('Enter Customer Country: ')\n",
    "        self.continent=input('Enter Customer Continent: ')\n",
    "        customerlist.append((self.name,self.gender,self.dob,self.height,self.weight,self.country,self.continent))\n",
    "        \n",
    "    def bmisection(self):\n",
    "        cid = int(input('Enter Customer ID: '))\n",
    "        bmi= (customerlist[cid][4]/(customerlist[cid][3])**2)\n",
    "        if customerlist[cid][6] == 'Africa':\n",
    "            print(f' Your BMI  is {bmi}, kindly check your doctor for advice. Your checking charge is $15')\n",
    "        elif customerlist[cid][6] == 'Europe':\n",
    "            print(f' Your BMI  is {bmi}, kindly check your doctor for advice. Your checking charge is $20')\n",
    "        elif customerlist[cid][6] == 'South America':\n",
    "            print(f' Your BMI  is {bmi}, kindly check your doctor for advice. Your checking charge is $25')\n",
    "        elif customerlist[cid][6] == 'North America':\n",
    "            print(f' Your BMI  is {bmi}, kindly check your doctor for advice. Your checking charge is $25')\n",
    "        elif customerlist[cid][6] == 'Asia':\n",
    "            print(f' Your BMI  is {bmi}, kindly check your doctor for advice. Your checking charge is $30')\n",
    "        elif customerlist[cid][6] == 'Australia':\n",
    "            print(f' Your BMI  is {bmi}, kindly check your doctor for advice. Your checking charge is $30') \n",
    "            \n",
    "    def display(self):\n",
    "        cid = int(input('Enter Customer ID: '))\n",
    "        print(f'''___________CUSTOMER DETAILS_________\n",
    "NAME:{customerlist[cid][0]}\n",
    "GENDER:{customerlist[cid][1]}\n",
    "DOB:{customerlist[cid][2]}\n",
    "HEIGHT:{customerlist[cid][3]}\n",
    "WEIGHT:{customerlist[cid][4]}\n",
    "COUNTRY:{customerlist[cid][5]}\n",
    "CONTINENT:{customerlist[cid][6]}\n",
    "''')\n",
    "customerlist=[]\n",
    "program=BMISYSTEM()\n",
    "        "
   ]
  },
  {
   "cell_type": "code",
   "execution_count": 20,
   "id": "953c6cba",
   "metadata": {},
   "outputs": [
    {
     "name": "stdout",
     "output_type": "stream",
     "text": [
      "Enter Customer Name: Emmanuel James\n",
      "Enter Customer Gender: Male\n",
      "Enter Customer Date of Birth[mm/dd/yy]: 12/27/2007\n",
      "Enter Customer Height in  meters: 1.79\n",
      "Enter Customer Weight in kg: 55\n",
      "Enter Customer Country: Nigeria\n",
      "Enter Customer Continent: Africa\n"
     ]
    }
   ],
   "source": [
    "program.accept()"
   ]
  },
  {
   "cell_type": "code",
   "execution_count": 21,
   "id": "cc38b36d",
   "metadata": {},
   "outputs": [
    {
     "name": "stdout",
     "output_type": "stream",
     "text": [
      "Enter Customer ID: 0\n",
      "___________CUSTOMER DETAILS_________\n",
      "NAME:Emmanuel James\n",
      "GENDER:Male\n",
      "DOB:12/27/2007\n",
      "HEIGHT:1.79\n",
      "WEIGHT:55.0\n",
      "COUNTRY:Nigeria\n",
      "CONTINENT:Africa\n",
      "\n"
     ]
    }
   ],
   "source": [
    "program.display()"
   ]
  },
  {
   "cell_type": "code",
   "execution_count": 22,
   "id": "e33969a8",
   "metadata": {},
   "outputs": [
    {
     "name": "stdout",
     "output_type": "stream",
     "text": [
      "Enter Customer ID: 0\n",
      " Your BMI  is 17.165506694547613, kindly check your doctor for advice. Your checking charge is $15\n"
     ]
    }
   ],
   "source": [
    "program.bmisection()"
   ]
  },
  {
   "cell_type": "code",
   "execution_count": 23,
   "id": "9210db3d",
   "metadata": {},
   "outputs": [
    {
     "name": "stdout",
     "output_type": "stream",
     "text": [
      "Enter Customer Name: Marvelous Peters\n",
      "Enter Customer Gender: Male\n",
      "Enter Customer Date of Birth[mm/dd/yy]: 11/18/2006\n",
      "Enter Customer Height in  meters: 1.80\n",
      "Enter Customer Weight in kg: 56\n",
      "Enter Customer Country: Nigeria\n",
      "Enter Customer Continent: Africa\n"
     ]
    }
   ],
   "source": [
    "program.accept()"
   ]
  },
  {
   "cell_type": "code",
   "execution_count": 24,
   "id": "e9eb2aea",
   "metadata": {},
   "outputs": [
    {
     "name": "stdout",
     "output_type": "stream",
     "text": [
      "Enter Customer ID: 1\n",
      "___________CUSTOMER DETAILS_________\n",
      "NAME:Marvelous Peters\n",
      "GENDER:Male\n",
      "DOB:11/18/2006\n",
      "HEIGHT:1.8\n",
      "WEIGHT:56.0\n",
      "COUNTRY:Nigeria\n",
      "CONTINENT:Africa\n",
      "\n"
     ]
    }
   ],
   "source": [
    "program.display()"
   ]
  },
  {
   "cell_type": "code",
   "execution_count": 25,
   "id": "399306ea",
   "metadata": {},
   "outputs": [
    {
     "name": "stdout",
     "output_type": "stream",
     "text": [
      "Enter Customer ID: 1\n",
      " Your BMI  is 17.28395061728395, kindly check your doctor for advice. Your checking charge is $15\n"
     ]
    }
   ],
   "source": [
    "program.bmisection()"
   ]
  },
  {
   "cell_type": "code",
   "execution_count": 26,
   "id": "52c3902c",
   "metadata": {},
   "outputs": [
    {
     "name": "stdout",
     "output_type": "stream",
     "text": [
      "Enter Customer ID: 0\n",
      " Your BMI  is 17.165506694547613, kindly check your doctor for advice. Your checking charge is $15\n"
     ]
    }
   ],
   "source": [
    "program.bmisection()"
   ]
  },
  {
   "cell_type": "code",
   "execution_count": null,
   "id": "cc92ff23",
   "metadata": {},
   "outputs": [],
   "source": []
  }
 ],
 "metadata": {
  "kernelspec": {
   "display_name": "Python 3 (ipykernel)",
   "language": "python",
   "name": "python3"
  },
  "language_info": {
   "codemirror_mode": {
    "name": "ipython",
    "version": 3
   },
   "file_extension": ".py",
   "mimetype": "text/x-python",
   "name": "python",
   "nbconvert_exporter": "python",
   "pygments_lexer": "ipython3",
   "version": "3.11.5"
  }
 },
 "nbformat": 4,
 "nbformat_minor": 5
}
