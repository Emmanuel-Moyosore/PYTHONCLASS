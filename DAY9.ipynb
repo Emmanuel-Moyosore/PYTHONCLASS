{
 "cells": [
  {
   "cell_type": "markdown",
   "id": "f68de5a3",
   "metadata": {},
   "source": [
    "# Exercise  \n",
    "Using class and object write a program for a phone store to take in phone stock and display inventory \n",
    "Note use a while loop to make it a running system"
   ]
  },
  {
   "cell_type": "code",
   "execution_count": null,
   "id": "25b6c319",
   "metadata": {},
   "outputs": [
    {
     "name": "stdout",
     "output_type": "stream",
     "text": [
      "1. Add a phone to inventory\n",
      " 2. Display Inventory\n",
      "3. Exit\n",
      "Enter your choice of operation(1/2/3)1\n",
      "Enter Phone Brand: Tecno\n",
      "Enter Phone Model: P40\n",
      "Enter Phone price: 80000\n",
      "Tecno P40 added successfully\n",
      "1. Add a phone to inventory\n",
      " 2. Display Inventory\n",
      "3. Exit\n",
      "Enter your choice of operation(1/2/3)Itel\n",
      "1. Add a phone to inventory\n",
      " 2. Display Inventory\n",
      "3. Exit\n",
      "Enter your choice of operation(1/2/3)1\n",
      "Enter Phone Brand: Itel\n",
      "Enter Phone Model: S23\n",
      "Enter Phone price: 85000\n",
      "Itel S23 added successfully\n",
      "1. Add a phone to inventory\n",
      " 2. Display Inventory\n",
      "3. Exit\n",
      "Enter your choice of operation(1/2/3)Iphone\n",
      "1. Add a phone to inventory\n",
      " 2. Display Inventory\n",
      "3. Exit\n",
      "Enter your choice of operation(1/2/3)1\n",
      "Enter Phone Brand: Iphone\n",
      "Enter Phone Model: 15\n",
      "Enter Phone price: 1200000\n",
      "Iphone 15 added successfully\n",
      "1. Add a phone to inventory\n",
      " 2. Display Inventory\n",
      "3. Exit\n",
      "Enter your choice of operation(1/2/3)1\n",
      "Enter Phone Brand: Samsung\n",
      "Enter Phone Model: S23\n",
      "Enter Phone price: 150000\n",
      "Samsung S23 added successfully\n",
      "1. Add a phone to inventory\n",
      " 2. Display Inventory\n",
      "3. Exit\n",
      "Enter your choice of operation(1/2/3)2\n",
      "Inventory Details\n",
      "Tecno P40 - N80000.0\n",
      "Itel S23 - N85000.0\n",
      "Iphone 15 - N1200000.0\n",
      "Samsung S23 - N150000.0\n",
      "1. Add a phone to inventory\n",
      " 2. Display Inventory\n",
      "3. Exit\n"
     ]
    }
   ],
   "source": [
    "class phone:\n",
    "    def __init__(self, brand, model, price):\n",
    "        self.brand = brand\n",
    "        self.model = model\n",
    "        self.price = price\n",
    "    def display_info(self):\n",
    "        print(f'{self.brand} {self.model} - N{self.price}')\n",
    "        \n",
    "class phonestore:\n",
    "    def __init__(self):\n",
    "        self.inventory=[]\n",
    "    def add_stock(self,phone):\n",
    "        self.inventory.append(phone)\n",
    "        print(f'{phone.brand} {phone.model} added successfully')\n",
    "    def display(self):\n",
    "        if not self.inventory:\n",
    "            print('The inventory is empty')\n",
    "        else:\n",
    "            print('Inventory Details')\n",
    "            for phone in self.inventory:\n",
    "                phone.display_info()\n",
    "                \n",
    "phone_store= phonestore()\n",
    "while True:\n",
    "    print('1. Add a phone to inventory\\n 2. Display Inventory\\n3. Exit')\n",
    "    choice = input('Enter your choice of operation(1/2/3)')\n",
    "    if choice=='1':\n",
    "        brand=input('Enter Phone Brand: ')\n",
    "        model= input('Enter Phone Model: ')\n",
    "        price=float(input('Enter Phone price: '))\n",
    "        phone_store.add_stock(phone(brand,model,price))\n",
    "    elif choice=='2':\n",
    "        phone_store.display()\n",
    "    elif choice=='3':\n",
    "        print('Exiting the system..............')\n",
    "        break\n",
    "        "
   ]
  },
  {
   "cell_type": "code",
   "execution_count": null,
   "id": "616ed4bd",
   "metadata": {},
   "outputs": [],
   "source": []
  },
  {
   "cell_type": "code",
   "execution_count": null,
   "id": "a302a79e",
   "metadata": {},
   "outputs": [],
   "source": []
  },
  {
   "cell_type": "code",
   "execution_count": null,
   "id": "ca888d49",
   "metadata": {},
   "outputs": [],
   "source": []
  }
 ],
 "metadata": {
  "kernelspec": {
   "display_name": "Python 3 (ipykernel)",
   "language": "python",
   "name": "python3"
  },
  "language_info": {
   "codemirror_mode": {
    "name": "ipython",
    "version": 3
   },
   "file_extension": ".py",
   "mimetype": "text/x-python",
   "name": "python",
   "nbconvert_exporter": "python",
   "pygments_lexer": "ipython3",
   "version": "3.11.5"
  }
 },
 "nbformat": 4,
 "nbformat_minor": 5
}
