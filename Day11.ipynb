{
 "cells": [
  {
   "cell_type": "code",
   "execution_count": 1,
   "id": "8e5f0af2",
   "metadata": {},
   "outputs": [
    {
     "name": "stdout",
     "output_type": "stream",
     "text": [
      "['MAXYEAR', 'MINYEAR', 'UTC', '__all__', '__builtins__', '__cached__', '__doc__', '__file__', '__loader__', '__name__', '__package__', '__spec__', 'date', 'datetime', 'datetime_CAPI', 'sys', 'time', 'timedelta', 'timezone', 'tzinfo']\n"
     ]
    }
   ],
   "source": [
    "import datetime\n",
    "print(dir(datetime))"
   ]
  },
  {
   "cell_type": "code",
   "execution_count": 2,
   "id": "cccaf1fa",
   "metadata": {},
   "outputs": [],
   "source": [
    "date1 = datetime.date(2022,5,23)"
   ]
  },
  {
   "cell_type": "code",
   "execution_count": 3,
   "id": "fbfca5e1",
   "metadata": {},
   "outputs": [
    {
     "data": {
      "text/plain": [
       "datetime.date"
      ]
     },
     "execution_count": 3,
     "metadata": {},
     "output_type": "execute_result"
    }
   ],
   "source": [
    "type(date1)"
   ]
  },
  {
   "cell_type": "code",
   "execution_count": 6,
   "id": "8efbe894",
   "metadata": {},
   "outputs": [
    {
     "name": "stdout",
     "output_type": "stream",
     "text": [
      "2022\n",
      "5\n",
      "23\n",
      "0\n",
      "1\n"
     ]
    }
   ],
   "source": [
    "print(date1.year)\n",
    "print(date1.month)\n",
    "print(date1.day)\n",
    "print(date1.weekday())\n",
    "print(date1.isoweekday())"
   ]
  },
  {
   "cell_type": "code",
   "execution_count": 9,
   "id": "aca44ccc",
   "metadata": {},
   "outputs": [],
   "source": [
    "#Exercise\n",
    "# Return a date in this format(2/12/2023)\n"
   ]
  },
  {
   "cell_type": "code",
   "execution_count": 10,
   "id": "9259c6ce",
   "metadata": {},
   "outputs": [
    {
     "name": "stdout",
     "output_type": "stream",
     "text": [
      "2023-11-22\n"
     ]
    }
   ],
   "source": [
    "currentdate=datetime.date.today()\n",
    "print(currentdate)"
   ]
  },
  {
   "cell_type": "code",
   "execution_count": null,
   "id": "9827584b",
   "metadata": {},
   "outputs": [],
   "source": []
  },
  {
   "cell_type": "code",
   "execution_count": 12,
   "id": "900afb74",
   "metadata": {},
   "outputs": [
    {
     "data": {
      "text/plain": [
       "'11/22/2023'"
      ]
     },
     "execution_count": 12,
     "metadata": {},
     "output_type": "execute_result"
    }
   ],
   "source": [
    "# strftime: for modification of date and time\n",
    "currentdate.strftime('%m/%d/%Y')"
   ]
  },
  {
   "cell_type": "code",
   "execution_count": 13,
   "id": "ddd06ab1",
   "metadata": {},
   "outputs": [
    {
     "data": {
      "text/plain": [
       "'22nd of November, 2023'"
      ]
     },
     "execution_count": 13,
     "metadata": {},
     "output_type": "execute_result"
    }
   ],
   "source": [
    "currentdate.strftime('%dnd of %B, %Y')"
   ]
  },
  {
   "cell_type": "code",
   "execution_count": 14,
   "id": "5ff03eec",
   "metadata": {},
   "outputs": [],
   "source": [
    "time1 = datetime.time(10,45,50,757574)\n"
   ]
  },
  {
   "cell_type": "code",
   "execution_count": 16,
   "id": "9d2650c6",
   "metadata": {},
   "outputs": [
    {
     "name": "stdout",
     "output_type": "stream",
     "text": [
      "10\n",
      "45\n",
      "50\n",
      "757574\n"
     ]
    }
   ],
   "source": [
    "print(time1.hour)\n",
    "print(time1.minute)\n",
    "print(time1.second)\n",
    "print(time1.microsecond)"
   ]
  },
  {
   "cell_type": "code",
   "execution_count": 71,
   "id": "860b76e0",
   "metadata": {},
   "outputs": [
    {
     "name": "stdout",
     "output_type": "stream",
     "text": [
      "11:16:01.768477\n"
     ]
    }
   ],
   "source": [
    "current_time = datetime.datetime.now().time()\n",
    "\n",
    "print(current_time)"
   ]
  },
  {
   "cell_type": "code",
   "execution_count": 72,
   "id": "9b2848be",
   "metadata": {},
   "outputs": [
    {
     "data": {
      "text/plain": [
       "'11::16::01::AM'"
      ]
     },
     "execution_count": 72,
     "metadata": {},
     "output_type": "execute_result"
    }
   ],
   "source": [
    "current_time.strftime('%I::%M::%S::%p')"
   ]
  },
  {
   "cell_type": "code",
   "execution_count": 73,
   "id": "32ef3ce7",
   "metadata": {},
   "outputs": [
    {
     "data": {
      "text/plain": [
       "datetime.datetime(2023, 11, 22, 11, 21, 51, 150537)"
      ]
     },
     "execution_count": 73,
     "metadata": {},
     "output_type": "execute_result"
    }
   ],
   "source": [
    "current_date_time=datetime.datetime.now()\n",
    "current_date_time"
   ]
  },
  {
   "cell_type": "code",
   "execution_count": 75,
   "id": "c42df45e",
   "metadata": {},
   "outputs": [
    {
     "name": "stdout",
     "output_type": "stream",
     "text": [
      "Provide your date[d/m/y]22/11/2023\n"
     ]
    },
    {
     "data": {
      "text/plain": [
       "2023"
      ]
     },
     "execution_count": 75,
     "metadata": {},
     "output_type": "execute_result"
    }
   ],
   "source": [
    "# strptime: converts string date to datetime format\n",
    "date2 = input('Provide your date[d/m/y]')\n",
    "condate = datetime.datetime.strptime(date2,'%d/%m/%Y').date()\n",
    "condate.year"
   ]
  },
  {
   "cell_type": "code",
   "execution_count": 76,
   "id": "de2f7ce9",
   "metadata": {},
   "outputs": [
    {
     "data": {
      "text/plain": [
       "datetime.timedelta(days=548)"
      ]
     },
     "execution_count": 76,
     "metadata": {},
     "output_type": "execute_result"
    }
   ],
   "source": [
    "# TIME DELTA: Difference between two dates\n",
    "currentdate-date1"
   ]
  },
  {
   "cell_type": "code",
   "execution_count": 88,
   "id": "2b446f0e",
   "metadata": {},
   "outputs": [
    {
     "data": {
      "text/plain": [
       "datetime.date(2024, 4, 20)"
      ]
     },
     "execution_count": 88,
     "metadata": {},
     "output_type": "execute_result"
    }
   ],
   "source": [
    "next_date= currentdate+datetime.timedelta(days=150)\n",
    "next_date"
   ]
  },
  {
   "cell_type": "code",
   "execution_count": 90,
   "id": "ab880e14",
   "metadata": {},
   "outputs": [
    {
     "name": "stdout",
     "output_type": "stream",
     "text": [
      "What is your appointment type: work\n",
      "Enter date[d,m,y]: 22/5/2023\n"
     ]
    },
    {
     "ename": "TypeError",
     "evalue": "can only concatenate str (not \"datetime.timedelta\") to str",
     "output_type": "error",
     "traceback": [
      "\u001b[1;31m---------------------------------------------------------------------------\u001b[0m",
      "\u001b[1;31mTypeError\u001b[0m                                 Traceback (most recent call last)",
      "Cell \u001b[1;32mIn[90], line 8\u001b[0m\n\u001b[0;32m      6\u001b[0m date3\u001b[38;5;241m=\u001b[39m\u001b[38;5;28minput\u001b[39m(\u001b[38;5;124m'\u001b[39m\u001b[38;5;124mEnter date[d,m,y]: \u001b[39m\u001b[38;5;124m'\u001b[39m)\n\u001b[0;32m      7\u001b[0m condate \u001b[38;5;241m=\u001b[39m datetime\u001b[38;5;241m.\u001b[39mdatetime\u001b[38;5;241m.\u001b[39mstrptime(date3,\u001b[38;5;124m'\u001b[39m\u001b[38;5;132;01m%d\u001b[39;00m\u001b[38;5;124m/\u001b[39m\u001b[38;5;124m%\u001b[39m\u001b[38;5;124mm/\u001b[39m\u001b[38;5;124m%\u001b[39m\u001b[38;5;124mY\u001b[39m\u001b[38;5;124m'\u001b[39m)\u001b[38;5;241m.\u001b[39mdate()\n\u001b[1;32m----> 8\u001b[0m next_date \u001b[38;5;241m=\u001b[39m date3\u001b[38;5;241m+\u001b[39mdatetime\u001b[38;5;241m.\u001b[39mtimedelta(days\u001b[38;5;241m=\u001b[39m\u001b[38;5;241m34\u001b[39m)\n",
      "\u001b[1;31mTypeError\u001b[0m: can only concatenate str (not \"datetime.timedelta\") to str"
     ]
    }
   ],
   "source": [
    "#ASSIGNMENT SEVEN PART ONE\n",
    "# Ask a user for their type of appointment, the date and write a program to calculate how \n",
    "#many weeks and days left  until the user's  appointment\n",
    "\n",
    "appointment=input('What is your appointment type: ')\n",
    "date3=input('Enter date[d,m,y]: ')\n",
    "condate = datetime.datetime.strptime(date3,'%d/%m/%Y').date()\n",
    "next_date = date3+datetime.timedelta(days=34)"
   ]
  },
  {
   "cell_type": "code",
   "execution_count": null,
   "id": "0189da1d",
   "metadata": {},
   "outputs": [],
   "source": [
    "# Assignmentseven part two\n",
    "# write a program to calculate how many seconds a user used in answering five different\n",
    "#additions of two numbers generated randomly"
   ]
  }
 ],
 "metadata": {
  "kernelspec": {
   "display_name": "Python 3 (ipykernel)",
   "language": "python",
   "name": "python3"
  },
  "language_info": {
   "codemirror_mode": {
    "name": "ipython",
    "version": 3
   },
   "file_extension": ".py",
   "mimetype": "text/x-python",
   "name": "python",
   "nbconvert_exporter": "python",
   "pygments_lexer": "ipython3",
   "version": "3.11.5"
  }
 },
 "nbformat": 4,
 "nbformat_minor": 5
}
