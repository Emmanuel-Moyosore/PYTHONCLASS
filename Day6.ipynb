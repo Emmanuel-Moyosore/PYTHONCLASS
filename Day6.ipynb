{
 "cells": [
  {
   "cell_type": "markdown",
   "id": "2496d232",
   "metadata": {},
   "source": [
    "FUNCTIONS"
   ]
  },
  {
   "cell_type": "code",
   "execution_count": 1,
   "id": "1122e3ec",
   "metadata": {},
   "outputs": [
    {
     "name": "stdout",
     "output_type": "stream",
     "text": [
      "Welcome to python class\n"
     ]
    }
   ],
   "source": [
    "def greet():# function without a parameter\n",
    "    print('Welcome to python class')\n",
    "greet()"
   ]
  },
  {
   "cell_type": "code",
   "execution_count": 5,
   "id": "3c617b46",
   "metadata": {},
   "outputs": [
    {
     "name": "stdout",
     "output_type": "stream",
     "text": [
      "Welcome to python class Job\n"
     ]
    }
   ],
   "source": [
    "def greet2(Name):#A function with a single parameter\n",
    "    print(f'Welcome to python class {Name}')\n",
    "greet2('Job')"
   ]
  },
  {
   "cell_type": "code",
   "execution_count": 8,
   "id": "70f30fae",
   "metadata": {},
   "outputs": [
    {
     "name": "stdout",
     "output_type": "stream",
     "text": [
      "___________DETAILS________\n",
      "NAME:James Ford\n",
      "AGE:25\n",
      "GENDER:male\n",
      "HEIGHT:1.92\n",
      "\n",
      "Congratulations you have been selected for the upcoming game\n"
     ]
    }
   ],
   "source": [
    "def Basketball_selection(name,age,gender,height):# Function with multiple parameter\n",
    "    print(f'''___________DETAILS________\n",
    "NAME:{name}\n",
    "AGE:{age}\n",
    "GENDER:{gender}\n",
    "HEIGHT:{height}\n",
    "''')\n",
    "    if height>=1.90 and age>=16:\n",
    "        print('Congratulations you have been selected for the upcoming game')\n",
    "    else:\n",
    "        print('Sorry not selected')\n",
    "Basketball_selection('James Ford',25,'male',1.92)"
   ]
  },
  {
   "cell_type": "code",
   "execution_count": null,
   "id": "c28dcce5",
   "metadata": {},
   "outputs": [],
   "source": [
    "balance=0\n",
    "def sparkjet():\n",
    "    global balance\n",
    "    def deposit():\n",
    "        global balance\n",
    "        amount=float(input('Enter deposit amount: '))\n",
    "        balance=balance+amount\n",
    "        print('Transaction successful ')\n",
    "    def transfer():\n",
    "        global balance\n",
    "        amount=float(input('Enter transfer amount: '))\n",
    "        if amount> balance or amount==0:\n",
    "            print('Insufficient Funds')\n",
    "        else:\n",
    "            balance= balance-amount\n",
    "            print('Transaction Successful')\n",
    "    def airtime():\n",
    "        global balance\n",
    "        amount=float(input('Enter airtime amount '))\n",
    "        if amount> balance or amount==0:\n",
    "            print('Insufficient Funds')\n",
    "        else:\n",
    "            balance= balance-amount\n",
    "            print('Transaction successful')\n",
    "    def data():\n",
    "        global balance\n",
    "        amount=float(input('Enter data amount '))\n",
    "        if amount> balance or amount==o:\n",
    "            print('Insufficient Funds')\n",
    "        else:\n",
    "            balance= balance-amount\n",
    "            print('Transaction successful')\n",
    "    def checkbalance():\n",
    "        global balance\n",
    "        print(f'Your available balance is {balance}')\n",
    "    operation=True\n",
    "    counter=0\n",
    "    while operation:\n",
    "        option= input('CHOOSE TRANSACTION OPTION[deposit,transfer,airtime,data, balance, logout]')  \n",
    "        if option=='deposit':\n",
    "                deposit()\n",
    "        elif option=='transfer':\n",
    "                    transfer()\n",
    "        elif option=='airtime':\n",
    "                    airtime()\n",
    "        elif option=='data':\n",
    "                 data()\n",
    "        elif option=='balance':\n",
    "                checkbalance()\n",
    "        elif option=='logout':\n",
    "            print('Logging out. Have a nice day')\n",
    "            break\n",
    "            operation=False\n",
    "              \n",
    "        counter=counter+1\n",
    "sparkjet()\n",
    "        \n",
    "\n",
    "        \n",
    "        "
   ]
  },
  {
   "cell_type": "code",
   "execution_count": null,
   "id": "9b7388d9",
   "metadata": {},
   "outputs": [],
   "source": [
    "sparkjet()"
   ]
  },
  {
   "cell_type": "code",
   "execution_count": null,
   "id": "f08e81b2",
   "metadata": {},
   "outputs": [],
   "source": []
  }
 ],
 "metadata": {
  "kernelspec": {
   "display_name": "Python 3 (ipykernel)",
   "language": "python",
   "name": "python3"
  },
  "language_info": {
   "codemirror_mode": {
    "name": "ipython",
    "version": 3
   },
   "file_extension": ".py",
   "mimetype": "text/x-python",
   "name": "python",
   "nbconvert_exporter": "python",
   "pygments_lexer": "ipython3",
   "version": "3.11.5"
  }
 },
 "nbformat": 4,
 "nbformat_minor": 5
}
