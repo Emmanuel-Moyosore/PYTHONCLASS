{
 "cells": [
  {
   "cell_type": "markdown",
   "id": "7e6afffb",
   "metadata": {},
   "source": [
    "# For Loop"
   ]
  },
  {
   "cell_type": "code",
   "execution_count": 1,
   "id": "e6f4e88d",
   "metadata": {},
   "outputs": [
    {
     "name": "stdout",
     "output_type": "stream",
     "text": [
      "pppp\n",
      "yyyy\n",
      "tttt\n",
      "hhhh\n",
      "oooo\n",
      "nnnn\n"
     ]
    }
   ],
   "source": [
    "word='python'\n",
    "for char in word:\n",
    "    print(char*4)"
   ]
  },
  {
   "cell_type": "code",
   "execution_count": 3,
   "id": "a24e5d53",
   "metadata": {},
   "outputs": [
    {
     "name": "stdout",
     "output_type": "stream",
     "text": [
      "pppp yyyy tttt hhhh oooo nnnn "
     ]
    }
   ],
   "source": [
    "word='python'\n",
    "for char in word:\n",
    "    print(char*4,end=' ')"
   ]
  },
  {
   "cell_type": "code",
   "execution_count": 4,
   "id": "1ca6ad10",
   "metadata": {},
   "outputs": [
    {
     "name": "stdout",
     "output_type": "stream",
     "text": [
      "python\n",
      "python\n",
      "python\n",
      "python\n",
      "python\n"
     ]
    }
   ],
   "source": [
    "for i in range(5):\n",
    "    print(word)"
   ]
  },
  {
   "cell_type": "markdown",
   "id": "15b90519",
   "metadata": {},
   "source": [
    "# Write a program to check if an item is in stock and calculate the total cost of items in the shopping cart"
   ]
  },
  {
   "cell_type": "code",
   "execution_count": 7,
   "id": "ba66c540",
   "metadata": {},
   "outputs": [
    {
     "name": "stdout",
     "output_type": "stream",
     "text": [
      "The total cost of items in the cart is N12900.0\n"
     ]
    }
   ],
   "source": [
    "products={\n",
    "    'item1':{'Name':'Big Burger','Price':3000.00,'Stock':15},\n",
    "    'item2':{'Name':'Small Burger','Price':1500.00,'Stock':25},\n",
    "    'item3':{'Name':'Chicken Pie','Price':800.00,'Stock':50},\n",
    "}\n",
    "cart=[]\n",
    "totalcost=0\n",
    "cart.append(('item1',2))\n",
    "cart.append(('item3',3))\n",
    "cart.append(('item2',3))\n",
    "for item in cart:\n",
    "    id, quantity=item\n",
    "    if id in products and products[id]['Stock']>= quantity:\n",
    "        totalcost+= products[id]['Price']*quantity\n",
    "        \n",
    "    else:\n",
    "            print('Out of stock')\n",
    "if totalcost>0:\n",
    "    print(f'The total cost of items in the cart is N{totalcost}')\n",
    "else:\n",
    "    print('No item in the cart')"
   ]
  },
  {
   "cell_type": "markdown",
   "id": "8658f571",
   "metadata": {},
   "source": [
    "# WHILE LOOP"
   ]
  },
  {
   "cell_type": "code",
   "execution_count": null,
   "id": "b7b2ce2d",
   "metadata": {},
   "outputs": [],
   "source": [
    "num=int(input('Enter your number:'))\n",
    "import math\n",
    "counter=0\n",
    "while num!=0:\n",
    "    print(f'The sqrt of {num} is {math.sqrt(num)}')\n",
    "    counter+=1\n",
    "    num=int(input('Enter your number:'))"
   ]
  },
  {
   "cell_type": "markdown",
   "id": "24393d99",
   "metadata": {},
   "source": [
    "#Write a simple authentication system that checks a user's credentials to allow maximum attempt of 3 times login"
   ]
  },
  {
   "cell_type": "code",
   "execution_count": 16,
   "id": "0816bfb7",
   "metadata": {},
   "outputs": [
    {
     "name": "stdout",
     "output_type": "stream",
     "text": [
      "Enter your username: Datpro\n",
      "Enter your password: Boss125\n",
      "Login Successful, Datpro!\n"
     ]
    }
   ],
   "source": [
    "correct_username='Datpro'\n",
    "correct_password='Boss125'\n",
    "max_attempt=3\n",
    "login_attempt=0\n",
    "while login_attempt<max_attempt:\n",
    "    username=input('Enter your username: ')\n",
    "    password=input('Enter your password: ')\n",
    "    if username==correct_username and password==correct_password:\n",
    "        print('Login Successful, ' + username +'!')\n",
    "        break\n",
    "    else:\n",
    "        print('Login failed')\n",
    "        login_attempt+=1\n",
    "if login_attempt==max_attempt:\n",
    "    print('Maximum Login attempts reached. Account locked')\n",
    "\n",
    "        "
   ]
  },
  {
   "cell_type": "code",
   "execution_count": null,
   "id": "10548299",
   "metadata": {},
   "outputs": [],
   "source": []
  }
 ],
 "metadata": {
  "kernelspec": {
   "display_name": "Python 3 (ipykernel)",
   "language": "python",
   "name": "python3"
  },
  "language_info": {
   "codemirror_mode": {
    "name": "ipython",
    "version": 3
   },
   "file_extension": ".py",
   "mimetype": "text/x-python",
   "name": "python",
   "nbconvert_exporter": "python",
   "pygments_lexer": "ipython3",
   "version": "3.11.5"
  }
 },
 "nbformat": 4,
 "nbformat_minor": 5
}
