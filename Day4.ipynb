{
 "cells": [
  {
   "cell_type": "markdown",
   "id": "6c31d391",
   "metadata": {},
   "source": [
    "# DICTIONARY"
   ]
  },
  {
   "cell_type": "code",
   "execution_count": 1,
   "id": "c6edf794",
   "metadata": {},
   "outputs": [
    {
     "name": "stdout",
     "output_type": "stream",
     "text": [
      "Ben\n"
     ]
    }
   ],
   "source": [
    "record={\n",
    "    'Name':'Ben',\n",
    "    'Age':15\n",
    "}\n",
    "print(record['Name'])"
   ]
  },
  {
   "cell_type": "code",
   "execution_count": 4,
   "id": "f11a4949",
   "metadata": {},
   "outputs": [
    {
     "name": "stdout",
     "output_type": "stream",
     "text": [
      "dict_keys(['Name', 'Age'])\n"
     ]
    }
   ],
   "source": [
    "print(record.keys())"
   ]
  },
  {
   "cell_type": "code",
   "execution_count": 5,
   "id": "f627c00d",
   "metadata": {},
   "outputs": [
    {
     "name": "stdout",
     "output_type": "stream",
     "text": [
      "dict_values(['Ben', 15])\n"
     ]
    }
   ],
   "source": [
    "print(record.values())"
   ]
  },
  {
   "cell_type": "code",
   "execution_count": 6,
   "id": "0db2a978",
   "metadata": {},
   "outputs": [
    {
     "name": "stdout",
     "output_type": "stream",
     "text": [
      "dict_items([('Name', 'Ben'), ('Age', 15)])\n"
     ]
    }
   ],
   "source": [
    "print(record.items())"
   ]
  },
  {
   "cell_type": "code",
   "execution_count": 7,
   "id": "e4025aab",
   "metadata": {},
   "outputs": [
    {
     "name": "stdout",
     "output_type": "stream",
     "text": [
      "{'Name': 'Ben', 'Age': 15, 'Gender': 'male'}\n"
     ]
    }
   ],
   "source": [
    "record['Gender']='male'\n",
    "print(record)"
   ]
  },
  {
   "cell_type": "code",
   "execution_count": 14,
   "id": "39f729c9",
   "metadata": {},
   "outputs": [
    {
     "name": "stdout",
     "output_type": "stream",
     "text": [
      "{'Name': 'Ben', 'Age': 15, 'Gender': 'male', 'Height': 1.96}\n"
     ]
    }
   ],
   "source": [
    "record.update({'Height':1.96})\n",
    "print(record)"
   ]
  },
  {
   "cell_type": "code",
   "execution_count": 15,
   "id": "7d7b18fc",
   "metadata": {},
   "outputs": [
    {
     "name": "stdout",
     "output_type": "stream",
     "text": [
      "{'Name': 'Ben', 'Age': 16, 'Gender': 'male', 'Height': 1.96}\n"
     ]
    }
   ],
   "source": [
    "record.update({'Age':16})\n",
    "print(record)"
   ]
  },
  {
   "cell_type": "code",
   "execution_count": 16,
   "id": "aefdcd41",
   "metadata": {},
   "outputs": [
    {
     "name": "stdout",
     "output_type": "stream",
     "text": [
      "{'Name': 'Ben', 'Age': 16, 'Gender': 'male'}\n"
     ]
    }
   ],
   "source": [
    "record.popitem()# deletes the last item in the dictionary\n",
    "print(record)"
   ]
  },
  {
   "cell_type": "code",
   "execution_count": 17,
   "id": "b9c1f612",
   "metadata": {},
   "outputs": [
    {
     "name": "stdout",
     "output_type": "stream",
     "text": [
      "{'Name': 'Ben', 'Gender': 'male'}\n"
     ]
    }
   ],
   "source": [
    "record.pop('Age')\n",
    "print(record)"
   ]
  },
  {
   "cell_type": "markdown",
   "id": "2133f2ba",
   "metadata": {},
   "source": [
    "#MODULES"
   ]
  },
  {
   "cell_type": "markdown",
   "id": "7e6fed12",
   "metadata": {},
   "source": [
    "# MATH MODULES"
   ]
  },
  {
   "cell_type": "code",
   "execution_count": 18,
   "id": "c90daeea",
   "metadata": {},
   "outputs": [
    {
     "name": "stdout",
     "output_type": "stream",
     "text": [
      "['__doc__', '__loader__', '__name__', '__package__', '__spec__', 'acos', 'acosh', 'asin', 'asinh', 'atan', 'atan2', 'atanh', 'cbrt', 'ceil', 'comb', 'copysign', 'cos', 'cosh', 'degrees', 'dist', 'e', 'erf', 'erfc', 'exp', 'exp2', 'expm1', 'fabs', 'factorial', 'floor', 'fmod', 'frexp', 'fsum', 'gamma', 'gcd', 'hypot', 'inf', 'isclose', 'isfinite', 'isinf', 'isnan', 'isqrt', 'lcm', 'ldexp', 'lgamma', 'log', 'log10', 'log1p', 'log2', 'modf', 'nan', 'nextafter', 'perm', 'pi', 'pow', 'prod', 'radians', 'remainder', 'sin', 'sinh', 'sqrt', 'tan', 'tanh', 'tau', 'trunc', 'ulp']\n"
     ]
    }
   ],
   "source": [
    "import math\n",
    "print(dir(math))"
   ]
  },
  {
   "cell_type": "code",
   "execution_count": 19,
   "id": "78bf2b2b",
   "metadata": {},
   "outputs": [
    {
     "name": "stdout",
     "output_type": "stream",
     "text": [
      "17\n",
      "16\n",
      "10395180.252586327\n"
     ]
    }
   ],
   "source": [
    "num=16.85\n",
    "print(math.ceil(num))\n",
    "print(math.floor(num))\n",
    "print(math.sinh(num))"
   ]
  },
  {
   "cell_type": "markdown",
   "id": "d7b2b355",
   "metadata": {},
   "source": [
    "#Stats modules"
   ]
  },
  {
   "cell_type": "code",
   "execution_count": 20,
   "id": "d136803f",
   "metadata": {},
   "outputs": [
    {
     "name": "stdout",
     "output_type": "stream",
     "text": [
      "['Counter', 'Decimal', 'Fraction', 'LinearRegression', 'NormalDist', 'StatisticsError', '_SQRT2', '__all__', '__annotations__', '__builtins__', '__cached__', '__doc__', '__file__', '__loader__', '__name__', '__package__', '__spec__', '_coerce', '_convert', '_decimal_sqrt_of_frac', '_exact_ratio', '_fail_neg', '_float_sqrt_of_frac', '_integer_sqrt_of_frac_rto', '_isfinite', '_mean_stdev', '_normal_dist_inv_cdf', '_sqrt_bit_width', '_ss', '_sum', 'bisect_left', 'bisect_right', 'correlation', 'covariance', 'defaultdict', 'erf', 'exp', 'fabs', 'fmean', 'fsum', 'geometric_mean', 'groupby', 'harmonic_mean', 'hypot', 'linear_regression', 'log', 'math', 'mean', 'median', 'median_grouped', 'median_high', 'median_low', 'mode', 'mul', 'multimode', 'namedtuple', 'numbers', 'pstdev', 'pvariance', 'quantiles', 'random', 'reduce', 'repeat', 'sqrt', 'stdev', 'sys', 'tau', 'variance']\n"
     ]
    }
   ],
   "source": [
    "import statistics as stat\n",
    "print(dir(stat))"
   ]
  },
  {
   "cell_type": "code",
   "execution_count": 21,
   "id": "a9c48975",
   "metadata": {},
   "outputs": [
    {
     "name": "stdout",
     "output_type": "stream",
     "text": [
      "51.7\n",
      "34\n",
      "50.5\n",
      "444.0111111111111\n"
     ]
    }
   ],
   "source": [
    "score=[34,67,90,67,45,23,56,34,67,34]\n",
    "print(stat.mean(score))\n",
    "print(stat.mode(score))\n",
    "print(stat.median(score))\n",
    "print(stat.variance(score))"
   ]
  },
  {
   "cell_type": "markdown",
   "id": "986d139e",
   "metadata": {},
   "source": [
    "# RANDOM MODULES"
   ]
  },
  {
   "cell_type": "code",
   "execution_count": 22,
   "id": "75a3c4d4",
   "metadata": {},
   "outputs": [
    {
     "name": "stdout",
     "output_type": "stream",
     "text": [
      "['BPF', 'LOG4', 'NV_MAGICCONST', 'RECIP_BPF', 'Random', 'SG_MAGICCONST', 'SystemRandom', 'TWOPI', '_ONE', '_Sequence', '_Set', '__all__', '__builtins__', '__cached__', '__doc__', '__file__', '__loader__', '__name__', '__package__', '__spec__', '_accumulate', '_acos', '_bisect', '_ceil', '_cos', '_e', '_exp', '_floor', '_index', '_inst', '_isfinite', '_log', '_os', '_pi', '_random', '_repeat', '_sha512', '_sin', '_sqrt', '_test', '_test_generator', '_urandom', '_warn', 'betavariate', 'choice', 'choices', 'expovariate', 'gammavariate', 'gauss', 'getrandbits', 'getstate', 'lognormvariate', 'normalvariate', 'paretovariate', 'randbytes', 'randint', 'random', 'randrange', 'sample', 'seed', 'setstate', 'shuffle', 'triangular', 'uniform', 'vonmisesvariate', 'weibullvariate']\n"
     ]
    }
   ],
   "source": [
    "import random as rn\n",
    "print(dir(rn))"
   ]
  },
  {
   "cell_type": "code",
   "execution_count": 23,
   "id": "7e77c5fc",
   "metadata": {},
   "outputs": [
    {
     "name": "stdout",
     "output_type": "stream",
     "text": [
      "[23, 34, 67, 45, 34, 67, 67, 56, 34, 90]\n"
     ]
    }
   ],
   "source": [
    "rn.shuffle(score)\n",
    "print(score)"
   ]
  },
  {
   "cell_type": "code",
   "execution_count": 25,
   "id": "d1ad642d",
   "metadata": {},
   "outputs": [
    {
     "data": {
      "text/plain": [
       "56"
      ]
     },
     "execution_count": 25,
     "metadata": {},
     "output_type": "execute_result"
    }
   ],
   "source": [
    "rn.choice(score)"
   ]
  },
  {
   "cell_type": "code",
   "execution_count": 27,
   "id": "cbe67d4c",
   "metadata": {},
   "outputs": [
    {
     "data": {
      "text/plain": [
       "82"
      ]
     },
     "execution_count": 27,
     "metadata": {},
     "output_type": "execute_result"
    }
   ],
   "source": [
    "rn.randint(12,170)"
   ]
  },
  {
   "cell_type": "markdown",
   "id": "88a2683b",
   "metadata": {},
   "source": [
    "# Conditional Selection"
   ]
  },
  {
   "cell_type": "markdown",
   "id": "0ea19855",
   "metadata": {},
   "source": [
    "# how can a restuarant use a conditional statement to determine if a customer's bill exceeds a certain amount, and offer them a discount or reward accordingly"
   ]
  },
  {
   "cell_type": "code",
   "execution_count": 30,
   "id": "77c3d894",
   "metadata": {},
   "outputs": [
    {
     "name": "stdout",
     "output_type": "stream",
     "text": [
      "Enter Customer Bill: 6500.80\n",
      " Congratulation you have 5% discount\n"
     ]
    }
   ],
   "source": [
    "customer_bill=float(input('Enter Customer Bill: '))\n",
    "default_price=5000\n",
    "if customer_bill>default_price:\n",
    "    print(f' Congratulation you have 5% discount')"
   ]
  },
  {
   "cell_type": "code",
   "execution_count": 32,
   "id": "5b4b7f71",
   "metadata": {},
   "outputs": [
    {
     "name": "stdout",
     "output_type": "stream",
     "text": [
      "Enter Customer Bill: 20000.08\n",
      " Congratulation you have 5% discount\n"
     ]
    }
   ],
   "source": [
    "customer_bill=float(input('Enter Customer Bill: '))\n",
    "default_price=5000\n",
    "if customer_bill>default_price:\n",
    "    print(f' Congratulation you have 5% discount')\n",
    "else:\n",
    "    print(f'Sorry buy more to have a discount or try again later')"
   ]
  },
  {
   "cell_type": "code",
   "execution_count": 37,
   "id": "645c16c1",
   "metadata": {},
   "outputs": [
    {
     "name": "stdout",
     "output_type": "stream",
     "text": [
      "WELCOME TO MJ PLAZA\n",
      "____________FLOORS_____________\n",
      "1. [SPA AND EARLYCODE]\n",
      "2.[SALOON AND GAMMING SHOP]\n",
      "3.[LOUNGE AND RESTAURANT]\n",
      "4. GROUND FLOOR\n",
      "\n",
      "Enter the button number to your desired floor:2\n",
      "Enter 1 for SALOON and 2 For GAMMING SHOP2\n",
      "GAMMING SHOP is on the right\n"
     ]
    }
   ],
   "source": [
    "print('WELCOME TO MJ PLAZA')\n",
    "print('''____________FLOORS_____________\n",
    "1. [SPA AND EARLYCODE]\n",
    "2.[SALOON AND GAMMING SHOP]\n",
    "3.[LOUNGE AND RESTAURANT]\n",
    "4. GROUND FLOOR\n",
    "''')\n",
    "users_option=input('Enter the button number to your desired floor:')\n",
    "if users_option=='1':\n",
    "    option=input('Enter 1 for SPA and 2 For EARLYCODE')\n",
    "    if option=='1':\n",
    "        print('SPA is on the left') \n",
    "    elif option=='2':\n",
    "            print('EARLYCODE is on the right')\n",
    "elif users_option=='2':\n",
    "    option=input('Enter 1 for SALOON and 2 For GAMMING SHOP')\n",
    "    if option=='1':\n",
    "        print('SALOON is on the left')\n",
    "    elif option=='2':\n",
    "            print('GAMMING SHOP is on the right')\n",
    "elif users_option=='3':\n",
    "    option=input('Enter 1 for LOUNGE and 2 For RESTAURANT')\n",
    "    if option=='1':\n",
    "        print('LOUNGE is on the left')\n",
    "    elif option=='2':\n",
    "            print('RESTAURANT is on the right')\n",
    "elif users_option=='4':\n",
    "    print('POM POM GROUND FLOOR')"
   ]
  },
  {
   "cell_type": "code",
   "execution_count": null,
   "id": "c7dab4b0",
   "metadata": {},
   "outputs": [],
   "source": []
  }
 ],
 "metadata": {
  "kernelspec": {
   "display_name": "Python 3 (ipykernel)",
   "language": "python",
   "name": "python3"
  },
  "language_info": {
   "codemirror_mode": {
    "name": "ipython",
    "version": 3
   },
   "file_extension": ".py",
   "mimetype": "text/x-python",
   "name": "python",
   "nbconvert_exporter": "python",
   "pygments_lexer": "ipython3",
   "version": "3.11.5"
  }
 },
 "nbformat": 4,
 "nbformat_minor": 5
}
